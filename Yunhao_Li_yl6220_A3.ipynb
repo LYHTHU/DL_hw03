{
 "cells": [
  {
   "cell_type": "code",
   "execution_count": 15,
   "metadata": {},
   "outputs": [],
   "source": [
    "## 0. Setup"
   ]
  },
  {
   "cell_type": "code",
   "execution_count": 16,
   "metadata": {},
   "outputs": [],
   "source": [
    "# Import dependencies\n",
    "import torch\n",
    "import torch.nn as nn\n",
    "import torch.nn.functional as F\n",
    "import torch.optim as optim\n",
    "from torch.utils.data import DataLoader\n",
    "from torchvision import datasets, transforms"
   ]
  },
  {
   "cell_type": "code",
   "execution_count": 17,
   "metadata": {},
   "outputs": [],
   "source": [
    "# Set up your device \n",
    "cuda = torch.cuda.is_available()\n",
    "device = torch.device(\"cuda:0\" if cuda else \"cpu\")"
   ]
  },
  {
   "cell_type": "code",
   "execution_count": 18,
   "metadata": {},
   "outputs": [],
   "source": [
    "# Set up random seed to 1008. Do not change the random seed.\n",
    "seed = 1008\n",
    "torch.manual_seed(seed)\n",
    "if cuda:\n",
    "    torch.cuda.manual_seed_all(seed)"
   ]
  },
  {
   "cell_type": "markdown",
   "metadata": {},
   "source": [
    "## 1. Data: MNIST\n",
    "#### Load the MNIST training and test dataset using $\\texttt{torch.utils.data.DataLoader}$ and $\\texttt{torchvision.datasets}$. \n",
    "\n",
    "Hint: You might find Alf's notebook useful: https://github.com/Atcold/pytorch-Deep-Learning-Minicourse/blob/master/06-convnet.ipynb"
   ]
  },
  {
   "cell_type": "markdown",
   "metadata": {},
   "source": [
    "### 1.1. Load Training Set [4 pts]"
   ]
  },
  {
   "cell_type": "code",
   "execution_count": 19,
   "metadata": {},
   "outputs": [],
   "source": [
    "# Load the MNIST training set with batch size 128, apply data shuffling and normalization\n",
    "train_loader = torch.utils.data.DataLoader(\n",
    "    datasets.MNIST('./data', train=True, download=True,\n",
    "                   transform=transforms.Compose([\n",
    "                       transforms.ToTensor(),\n",
    "                       transforms.Normalize((0.1307,), (0.3081,))\n",
    "                   ])),\n",
    "    batch_size=128, shuffle=True)"
   ]
  },
  {
   "cell_type": "markdown",
   "metadata": {},
   "source": [
    "### 1.1. Load Test Set [4 pts]"
   ]
  },
  {
   "cell_type": "code",
   "execution_count": 20,
   "metadata": {},
   "outputs": [],
   "source": [
    "# Load the MNIST test set with batch size 128, apply data shuffling and normalization\n",
    "test_loader = torch.utils.data.DataLoader(\n",
    "    datasets.MNIST('./data', train=False, download=True,\n",
    "                   transform=transforms.Compose([\n",
    "                       transforms.ToTensor(),\n",
    "                       transforms.Normalize((0.1307,), (0.3081,))\n",
    "                   ])),\n",
    "    batch_size=128, shuffle=True)"
   ]
  },
  {
   "cell_type": "markdown",
   "metadata": {},
   "source": [
    "## 2. Models\n",
    "#### You are going to define two convolutional neural networks which are trained to classify MNIST digits"
   ]
  },
  {
   "cell_type": "markdown",
   "metadata": {},
   "source": [
    "### 2.1. CNN without Batch Norm [15 pts]"
   ]
  },
  {
   "cell_type": "code",
   "execution_count": null,
   "metadata": {},
   "outputs": [],
   "source": [
    "# Fill in the values below that make this network valid for MNIST data\n",
    "\n",
    "conv1_in_ch = 1\n",
    "conv2_in_ch = 20\n",
    "fc1_in_features = 800\n",
    "fc2_in_features = 500\n",
    "n_classes = 10"
   ]
  },
  {
   "cell_type": "code",
   "execution_count": null,
   "metadata": {},
   "outputs": [],
   "source": [
    "class NetWithoutBatchNorm(nn.Module):\n",
    "    def __init__(self):\n",
    "        super(NetWithoutBatchNorm, self).__init__()\n",
    "        self.conv1 = nn.Conv2d(in_channels=conv1_in_ch, out_channels=20, kernel_size=5, stride=1)\n",
    "        self.conv2 = nn.Conv2d(in_channels=conv2_in_ch, out_channels=50, kernel_size=5, stride=1)\n",
    "        self.fc1 = nn.Linear(in_features=fc1_in_features, out_features=500)\n",
    "        self.fc2 = nn.Linear(in_features=fc2_in_features, out_features=n_classes)\n",
    "\n",
    "    def forward(self, x):\n",
    "        x = F.relu(self.conv1(x))\n",
    "        x = F.max_pool2d(x, kernel_size=2, stride=2)\n",
    "        x = F.relu(self.conv2(x))\n",
    "        x = F.max_pool2d(x, kernel_size=2, stride=2)\n",
    "        # 4*4 image\n",
    "        x = x.view(-1, fc1_in_features)  # reshaping\n",
    "        x = F.relu(self.fc1(x))\n",
    "        x = self.fc2(x)\n",
    "        # Return the log_softmax of x.\n",
    "        return F.log_softmax(x, dim=1)"
   ]
  },
  {
   "cell_type": "markdown",
   "metadata": {},
   "source": [
    "### 2.2. CNN with Batch Norm [15 pts]"
   ]
  },
  {
   "cell_type": "code",
   "execution_count": null,
   "metadata": {},
   "outputs": [],
   "source": [
    "# Fill in the values below that make this network valid for MNIST data\n",
    "\n",
    "conv1_bn_size = 20\n",
    "conv2_bn_size = 50\n",
    "fc1_bn_size = 500"
   ]
  },
  {
   "cell_type": "code",
   "execution_count": null,
   "metadata": {},
   "outputs": [],
   "source": [
    "# Define the CNN with architecture explained in Part 2.2\n",
    "class NetWithBatchNorm(nn.Module):\n",
    "    def __init__(self):\n",
    "        super(NetWithBatchNorm, self).__init__()\n",
    "        self.conv1 = nn.Conv2d(in_channels=conv1_in_ch, out_channels=20, kernel_size=5, stride=1)\n",
    "        self.conv1_bn = nn.BatchNorm2d(conv1_bn_size)\n",
    "        self.conv2 = nn.Conv2d(in_channels=conv2_in_ch, out_channels=50, kernel_size=5, stride=1)\n",
    "        self.conv2_bn = nn.BatchNorm2d(conv2_bn_size)\n",
    "        self.fc1 = nn.Linear(in_features=fc1_in_features, out_features=500)\n",
    "        self.fc1_bn = nn.BatchNorm1d(fc1_bn_size)\n",
    "        self.fc2 = nn.Linear(in_features=fc2_in_features, out_features=n_classes)\n",
    "\n",
    "    def forward(self, x):\n",
    "        x = F.relu(self.conv1_bn(self.conv1(x)))\n",
    "        x = F.max_pool2d(x, kernel_size=2, stride=2)\n",
    "        x = F.relu(self.conv2_bn(self.conv2(x)))\n",
    "        x = F.max_pool2d(x, kernel_size=2, stride=2)\n",
    "        x = x.view(-1, fc1_in_features)\n",
    "        x = F.relu(self.fc1_bn(self.fc1(x)))\n",
    "        x = self.fc2(x)\n",
    "        # Return the log_softmax of x.\n",
    "        return F.log_softmax(x, dim=1)"
   ]
  },
  {
   "cell_type": "markdown",
   "metadata": {},
   "source": [
    "## 3. Training & Evaluation"
   ]
  },
  {
   "cell_type": "markdown",
   "metadata": {},
   "source": [
    "### 3.1. Define training method [15 pts]"
   ]
  },
  {
   "cell_type": "code",
   "execution_count": null,
   "metadata": {},
   "outputs": [],
   "source": [
    "def train(model, device, train_loader, optimizer, epoch, log_interval=100):\n",
    "    # Set model to training mode\n",
    "    model.train()\n",
    "    # Loop through data points\n",
    "    for batch_idx, (data, target) in enumerate(train_loader):\n",
    "        # Send data and target to device\n",
    "        data, target = data.to(device), target.to(device)\n",
    "\n",
    "        # Zero out the ortimizer\n",
    "        optimizer.zero_grad()\n",
    "\n",
    "        # Pass data through model\n",
    "        output = model(data)\n",
    "\n",
    "        # Compute the negative log likelihood loss\n",
    "        loss = F.nll_loss(output, target)\n",
    "\n",
    "        # Backpropagate loss\n",
    "        loss.backward()\n",
    "\n",
    "        # Make a step with the optimizer\n",
    "        optimizer.step()\n",
    "\n",
    "        # Print loss (uncomment lines below once implemented)\n",
    "        if batch_idx % log_interval == 0:\n",
    "            print('Train Epoch: {} [{}/{} ({:.0f}%)]\\tLoss: {:.6f}'.format(\n",
    "            epoch, batch_idx * len(data), len(train_loader.dataset),\n",
    "            100. * batch_idx / len(train_loader), loss.item()))"
   ]
  },
  {
   "cell_type": "markdown",
   "metadata": {},
   "source": [
    "### 3.2. Define test method [15 pts]"
   ]
  },
  {
   "cell_type": "code",
   "execution_count": null,
   "metadata": {},
   "outputs": [],
   "source": [
    "# Define test method\n",
    "def test(model, device, test_loader):\n",
    "    # Set model to evaluation mode\n",
    "    model.eval()\n",
    "    # Variable for the total loss\n",
    "    test_loss = 0\n",
    "    # Counter for the correct predictions\n",
    "    num_correct = 0\n",
    "\n",
    "    with torch.no_grad():\n",
    "        # Loop through data points\n",
    "        for data, target in test_loader:\n",
    "\n",
    "            # Send data to device\n",
    "            data, target = data.to(device), target.to(device)\n",
    "\n",
    "            # Pass data through model\n",
    "            output = model(data)\n",
    "\n",
    "            # Compute the negative log likelihood loss with reduction='sum' and add to total test_loss\n",
    "            loss = F.nll_loss(output, target, reduction=\"sum\")\n",
    "            test_loss += loss.item()\n",
    "\n",
    "            # Get predictions from the model for each data point\n",
    "            pred = output.data.max(1, keepdim=True)[\n",
    "                1]  # get the index of the max log-probability\n",
    "\n",
    "            # Add number of correct predictions to total num_correct\n",
    "            num_correct += pred.eq(target.data.view_as(pred)).cpu().sum().item()\n",
    "\n",
    "    # Compute the average test_loss\n",
    "    avg_test_loss = test_loss / len(test_loader.dataset)\n",
    "\n",
    "    # Print loss (uncomment lines below once implemented)\n",
    "    print('\\nTest set: Average loss: {:.4f}, Accuracy: {}/{} ({:.0f}%)\\n'.format(\n",
    "    avg_test_loss, num_correct, len(test_loader.dataset),\n",
    "    100. * num_correct / len(test_loader.dataset)))"
   ]
  },
  {
   "cell_type": "markdown",
   "metadata": {},
   "source": [
    "### 3.3 Train NetWithoutBatchNorm() [5 pts]"
   ]
  },
  {
   "cell_type": "code",
   "execution_count": null,
   "metadata": {},
   "outputs": [
    {
     "name": "stdout",
     "output_type": "stream",
     "text": [
      "Train Epoch: 1 [0/60000 (0%)]\tLoss: 2.312853\n",
      "Train Epoch: 1 [12800/60000 (21%)]\tLoss: 0.508795\n",
      "Train Epoch: 1 [25600/60000 (43%)]\tLoss: 0.338278\n",
      "Train Epoch: 1 [38400/60000 (64%)]\tLoss: 0.322212\n",
      "Train Epoch: 1 [51200/60000 (85%)]\tLoss: 0.223097\n",
      "\n",
      "Test set: Average loss: 0.1598, Accuracy: 9519/10000 (95%)\n",
      "\n",
      "Train Epoch: 2 [0/60000 (0%)]\tLoss: 0.232115\n",
      "Train Epoch: 2 [12800/60000 (21%)]\tLoss: 0.104225\n",
      "Train Epoch: 2 [25600/60000 (43%)]\tLoss: 0.120613\n",
      "Train Epoch: 2 [38400/60000 (64%)]\tLoss: 0.175549\n",
      "Train Epoch: 2 [51200/60000 (85%)]\tLoss: 0.113009\n",
      "\n",
      "Test set: Average loss: 0.0940, Accuracy: 9728/10000 (97%)\n",
      "\n",
      "Train Epoch: 3 [0/60000 (0%)]\tLoss: 0.086875\n",
      "Train Epoch: 3 [12800/60000 (21%)]\tLoss: 0.054715\n",
      "Train Epoch: 3 [25600/60000 (43%)]\tLoss: 0.100895\n",
      "Train Epoch: 3 [38400/60000 (64%)]\tLoss: 0.061005\n",
      "Train Epoch: 3 [51200/60000 (85%)]\tLoss: 0.062188\n",
      "\n",
      "Test set: Average loss: 0.0811, Accuracy: 9748/10000 (97%)\n",
      "\n",
      "Train Epoch: 4 [0/60000 (0%)]\tLoss: 0.027485\n",
      "Train Epoch: 4 [12800/60000 (21%)]\tLoss: 0.055215\n",
      "Train Epoch: 4 [25600/60000 (43%)]\tLoss: 0.037729\n",
      "Train Epoch: 4 [38400/60000 (64%)]\tLoss: 0.040380\n",
      "Train Epoch: 4 [51200/60000 (85%)]\tLoss: 0.078756\n",
      "\n",
      "Test set: Average loss: 0.0628, Accuracy: 9796/10000 (98%)\n",
      "\n",
      "Train Epoch: 5 [0/60000 (0%)]\tLoss: 0.053139\n",
      "Train Epoch: 5 [12800/60000 (21%)]\tLoss: 0.067740\n",
      "Train Epoch: 5 [25600/60000 (43%)]\tLoss: 0.031542\n",
      "Train Epoch: 5 [38400/60000 (64%)]\tLoss: 0.044302\n",
      "Train Epoch: 5 [51200/60000 (85%)]\tLoss: 0.024784\n",
      "\n",
      "Test set: Average loss: 0.0578, Accuracy: 9818/10000 (98%)\n",
      "\n",
      "Train Epoch: 6 [0/60000 (0%)]\tLoss: 0.106396\n",
      "Train Epoch: 6 [12800/60000 (21%)]\tLoss: 0.066258\n",
      "Train Epoch: 6 [25600/60000 (43%)]\tLoss: 0.013230\n",
      "Train Epoch: 6 [38400/60000 (64%)]\tLoss: 0.093583\n",
      "Train Epoch: 6 [51200/60000 (85%)]\tLoss: 0.052410\n",
      "\n",
      "Test set: Average loss: 0.0474, Accuracy: 9839/10000 (98%)\n",
      "\n",
      "Train Epoch: 7 [0/60000 (0%)]\tLoss: 0.081974\n",
      "Train Epoch: 7 [12800/60000 (21%)]\tLoss: 0.074077\n",
      "Train Epoch: 7 [25600/60000 (43%)]\tLoss: 0.082087\n",
      "Train Epoch: 7 [38400/60000 (64%)]\tLoss: 0.076785\n",
      "Train Epoch: 7 [51200/60000 (85%)]\tLoss: 0.070743\n",
      "\n",
      "Test set: Average loss: 0.0419, Accuracy: 9866/10000 (99%)\n",
      "\n",
      "Train Epoch: 8 [0/60000 (0%)]\tLoss: 0.017605\n",
      "Train Epoch: 8 [12800/60000 (21%)]\tLoss: 0.018340\n",
      "Train Epoch: 8 [25600/60000 (43%)]\tLoss: 0.044784\n",
      "Train Epoch: 8 [38400/60000 (64%)]\tLoss: 0.034996\n",
      "Train Epoch: 8 [51200/60000 (85%)]\tLoss: 0.013172\n",
      "\n",
      "Test set: Average loss: 0.0499, Accuracy: 9836/10000 (98%)\n",
      "\n",
      "Train Epoch: 9 [0/60000 (0%)]\tLoss: 0.073480\n",
      "Train Epoch: 9 [12800/60000 (21%)]\tLoss: 0.048384\n",
      "Train Epoch: 9 [25600/60000 (43%)]\tLoss: 0.039126\n",
      "Train Epoch: 9 [38400/60000 (64%)]\tLoss: 0.010327\n",
      "Train Epoch: 9 [51200/60000 (85%)]\tLoss: 0.029661\n",
      "\n",
      "Test set: Average loss: 0.0350, Accuracy: 9888/10000 (99%)\n",
      "\n",
      "Train Epoch: 10 [0/60000 (0%)]\tLoss: 0.014830\n",
      "Train Epoch: 10 [12800/60000 (21%)]\tLoss: 0.025737\n",
      "Train Epoch: 10 [25600/60000 (43%)]\tLoss: 0.034737\n",
      "Train Epoch: 10 [38400/60000 (64%)]\tLoss: 0.017648\n",
      "Train Epoch: 10 [51200/60000 (85%)]\tLoss: 0.006412\n",
      "\n",
      "Test set: Average loss: 0.0339, Accuracy: 9900/10000 (99%)\n",
      "\n"
     ]
    }
   ],
   "source": [
    "# Deifne model and sent to device\n",
    "model = NetWithoutBatchNorm().to(device)\n",
    "\n",
    "# Optimizer: SGD with learning rate of 1e-2 and momentum of 0.5\n",
    "optimizer = optim.SGD(model.parameters(), lr=1e-2, momentum=0.5)\n",
    "\n",
    "# Training loop with 10 epochs\n",
    "for epoch in range(1, 10 + 1):\n",
    "    # Train model\n",
    "    train(model, device, train_loader, optimizer, epoch)\n",
    "\n",
    "    # Test model\n",
    "    test(model, device, test_loader)"
   ]
  },
  {
   "cell_type": "markdown",
   "metadata": {},
   "source": [
    "### 3.4 Train NetWithBatchNorm() [5 pts]"
   ]
  },
  {
   "cell_type": "code",
   "execution_count": null,
   "metadata": {},
   "outputs": [
    {
     "name": "stdout",
     "output_type": "stream",
     "text": [
      "Train Epoch: 1 [0/60000 (0%)]\tLoss: 2.297710\n",
      "Train Epoch: 1 [12800/60000 (21%)]\tLoss: 0.417173\n",
      "Train Epoch: 1 [25600/60000 (43%)]\tLoss: 0.235528\n",
      "Train Epoch: 1 [38400/60000 (64%)]\tLoss: 0.159453\n",
      "Train Epoch: 1 [51200/60000 (85%)]\tLoss: 0.107960\n",
      "\n",
      "Test set: Average loss: 0.1104, Accuracy: 9761/10000 (98%)\n",
      "\n",
      "Train Epoch: 2 [0/60000 (0%)]\tLoss: 0.106045\n",
      "Train Epoch: 2 [12800/60000 (21%)]\tLoss: 0.083463\n",
      "Train Epoch: 2 [25600/60000 (43%)]\tLoss: 0.098051\n",
      "Train Epoch: 2 [38400/60000 (64%)]\tLoss: 0.073827\n",
      "Train Epoch: 2 [51200/60000 (85%)]\tLoss: 0.076187\n",
      "\n",
      "Test set: Average loss: 0.0646, Accuracy: 9848/10000 (98%)\n",
      "\n",
      "Train Epoch: 3 [0/60000 (0%)]\tLoss: 0.083698\n",
      "Train Epoch: 3 [12800/60000 (21%)]\tLoss: 0.081021\n",
      "Train Epoch: 3 [25600/60000 (43%)]\tLoss: 0.042898\n"
     ]
    }
   ],
   "source": [
    "# Deifne model and sent to device\n",
    "model = NetWithBatchNorm().to(device)\n",
    "\n",
    "# Optimizer: SGD with learning rate of 1e-2 and momentum of 0.5\n",
    "optimizer = optim.SGD(model.parameters(), lr=1e-2, momentum=0.5)\n",
    "\n",
    "# Training loop with 10 epochs\n",
    "for epoch in range(1, 10 + 1):\n",
    "    # Train model\n",
    "    train(model, device, train_loader, optimizer, epoch)\n",
    "\n",
    "    # Test model\n",
    "    test(model, device, test_loader)"
   ]
  },
  {
   "cell_type": "markdown",
   "metadata": {},
   "source": [
    "## 4. Empirically, which of the models achieves higher accuracy faster? [2 pts]"
   ]
  },
  {
   "cell_type": "markdown",
   "metadata": {},
   "source": [
    "Answer: "
   ]
  },
  {
   "cell_type": "code",
   "execution_count": null,
   "metadata": {},
   "outputs": [],
   "source": []
  },
  {
   "cell_type": "code",
   "execution_count": null,
   "metadata": {},
   "outputs": [],
   "source": []
  }
 ],
 "metadata": {
  "kernelspec": {
   "display_name": "Python 3",
   "language": "python",
   "name": "python3"
  },
  "language_info": {
   "codemirror_mode": {
    "name": "ipython",
    "version": 3
   },
   "file_extension": ".py",
   "mimetype": "text/x-python",
   "name": "python",
   "nbconvert_exporter": "python",
   "pygments_lexer": "ipython3",
   "version": "3.6.7"
  }
 },
 "nbformat": 4,
 "nbformat_minor": 2
}
